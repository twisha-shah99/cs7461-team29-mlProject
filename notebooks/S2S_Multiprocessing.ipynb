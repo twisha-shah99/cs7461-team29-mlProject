{
 "cells": [
  {
   "cell_type": "markdown",
   "metadata": {},
   "source": [
    "# Multiprocessing zonal calculations"
   ]
  },
  {
   "cell_type": "code",
   "execution_count": 12,
   "metadata": {},
   "outputs": [
    {
     "name": "stdout",
     "output_type": "stream",
     "text": [
      "The autoreload extension is already loaded. To reload it, use:\n",
      "  %reload_ext autoreload\n"
     ]
    }
   ],
   "source": [
    "import sys, os, importlib, math, multiprocessing\n",
    "import rasterio, geojson\n",
    "\n",
    "import pandas as pd\n",
    "import geopandas as gpd\n",
    "import numpy as np\n",
    "\n",
    "from h3 import h3\n",
    "from tqdm import tqdm\n",
    "from shapely.geometry import Polygon\n",
    "\n",
    "sys.path.insert(0, \"/home/wb411133/Code/gostrocks/src\")\n",
    "import GOSTrocks.rasterMisc as rMisc\n",
    "import GOSTrocks.ntlMisc as ntl\n",
    "import GOSTrocks.mapMisc as mapMisc\n",
    "from GOSTrocks.misc import tPrint\n",
    "\n",
    "sys.path.append(\"../src\")\n",
    "import h3_helper\n",
    "\n",
    "AWS_S3_BUCKET = 'wbg-geography01'\n",
    "AWS_ACCESS_KEY_ID = os.getenv(\"AWS_ACCESS_KEY_ID\")\n",
    "AWS_SECRET_ACCESS_KEY = os.getenv(\"AWS_SECRET_ACCESS_KEY\")\n",
    "AWS_SESSION_TOKEN = os.getenv(\"AWS_SESSION_TOKEN\")\n",
    "\n",
    "%load_ext autoreload\n",
    "%autoreload 2"
   ]
  },
  {
   "cell_type": "code",
   "execution_count": 18,
   "metadata": {},
   "outputs": [
    {
     "ename": "RasterioIOError",
     "evalue": "J:/Data/GLOBAL/GHSL/Pop/GHS_POP_E2020_GLOBE_R2023A_54009_100_V1_0.tif: Permission denied",
     "output_type": "error",
     "traceback": [
      "\u001b[1;31m---------------------------------------------------------------------------\u001b[0m",
      "\u001b[1;31mCPLE_OpenFailedError\u001b[0m                      Traceback (most recent call last)",
      "File \u001b[1;32mrasterio\\\\_base.pyx:310\u001b[0m, in \u001b[0;36mrasterio._base.DatasetBase.__init__\u001b[1;34m()\u001b[0m\n",
      "File \u001b[1;32mrasterio\\\\_base.pyx:221\u001b[0m, in \u001b[0;36mrasterio._base.open_dataset\u001b[1;34m()\u001b[0m\n",
      "File \u001b[1;32mrasterio\\\\_err.pyx:221\u001b[0m, in \u001b[0;36mrasterio._err.exc_wrap_pointer\u001b[1;34m()\u001b[0m\n",
      "\u001b[1;31mCPLE_OpenFailedError\u001b[0m: J:/Data/GLOBAL/GHSL/Pop/GHS_POP_E2020_GLOBE_R2023A_54009_100_V1_0.tif: Permission denied",
      "\nDuring handling of the above exception, another exception occurred:\n",
      "\u001b[1;31mRasterioIOError\u001b[0m                           Traceback (most recent call last)",
      "Cell \u001b[1;32mIn[18], line 12\u001b[0m\n\u001b[0;32m      9\u001b[0m global_pop_file \u001b[38;5;241m=\u001b[39m   \u001b[38;5;124m\"\u001b[39m\u001b[38;5;124mJ:/Data/GLOBAL/GHSL/Pop/GHS_POP_E2020_GLOBE_R2023A_54009_100_V1_0.tif\u001b[39m\u001b[38;5;124m\"\u001b[39m\n\u001b[0;32m     11\u001b[0m ghs_smod \u001b[38;5;241m=\u001b[39m rasterio\u001b[38;5;241m.\u001b[39mopen(global_urban_file)\n\u001b[1;32m---> 12\u001b[0m ghs_pop \u001b[38;5;241m=\u001b[39m rasterio\u001b[38;5;241m.\u001b[39mopen(global_pop_file)\n",
      "File \u001b[1;32mc:\\wbg\\Anaconda3\\envs\\urban_test\\Lib\\site-packages\\rasterio\\env.py:451\u001b[0m, in \u001b[0;36mensure_env_with_credentials.<locals>.wrapper\u001b[1;34m(*args, **kwds)\u001b[0m\n\u001b[0;32m    448\u001b[0m     session \u001b[38;5;241m=\u001b[39m DummySession()\n\u001b[0;32m    450\u001b[0m \u001b[38;5;28;01mwith\u001b[39;00m env_ctor(session\u001b[38;5;241m=\u001b[39msession):\n\u001b[1;32m--> 451\u001b[0m     \u001b[38;5;28;01mreturn\u001b[39;00m f(\u001b[38;5;241m*\u001b[39margs, \u001b[38;5;241m*\u001b[39m\u001b[38;5;241m*\u001b[39mkwds)\n",
      "File \u001b[1;32mc:\\wbg\\Anaconda3\\envs\\urban_test\\Lib\\site-packages\\rasterio\\__init__.py:304\u001b[0m, in \u001b[0;36mopen\u001b[1;34m(fp, mode, driver, width, height, count, crs, transform, dtype, nodata, sharing, **kwargs)\u001b[0m\n\u001b[0;32m    301\u001b[0m path \u001b[38;5;241m=\u001b[39m _parse_path(raw_dataset_path)\n\u001b[0;32m    303\u001b[0m \u001b[38;5;28;01mif\u001b[39;00m mode \u001b[38;5;241m==\u001b[39m \u001b[38;5;124m\"\u001b[39m\u001b[38;5;124mr\u001b[39m\u001b[38;5;124m\"\u001b[39m:\n\u001b[1;32m--> 304\u001b[0m     dataset \u001b[38;5;241m=\u001b[39m DatasetReader(path, driver\u001b[38;5;241m=\u001b[39mdriver, sharing\u001b[38;5;241m=\u001b[39msharing, \u001b[38;5;241m*\u001b[39m\u001b[38;5;241m*\u001b[39mkwargs)\n\u001b[0;32m    305\u001b[0m \u001b[38;5;28;01melif\u001b[39;00m mode \u001b[38;5;241m==\u001b[39m \u001b[38;5;124m\"\u001b[39m\u001b[38;5;124mr+\u001b[39m\u001b[38;5;124m\"\u001b[39m:\n\u001b[0;32m    306\u001b[0m     dataset \u001b[38;5;241m=\u001b[39m get_writer_for_path(path, driver\u001b[38;5;241m=\u001b[39mdriver)(\n\u001b[0;32m    307\u001b[0m         path, mode, driver\u001b[38;5;241m=\u001b[39mdriver, sharing\u001b[38;5;241m=\u001b[39msharing, \u001b[38;5;241m*\u001b[39m\u001b[38;5;241m*\u001b[39mkwargs\n\u001b[0;32m    308\u001b[0m     )\n",
      "File \u001b[1;32mrasterio\\\\_base.pyx:312\u001b[0m, in \u001b[0;36mrasterio._base.DatasetBase.__init__\u001b[1;34m()\u001b[0m\n",
      "\u001b[1;31mRasterioIOError\u001b[0m: J:/Data/GLOBAL/GHSL/Pop/GHS_POP_E2020_GLOBE_R2023A_54009_100_V1_0.tif: Permission denied"
     ]
    }
   ],
   "source": [
    "h3_level = 6\n",
    "multiprocess=True\n",
    "verbose = True\n",
    "h3_level = 6\n",
    "data_prefix = \"Urbanization\"\n",
    "\n",
    "admin_bounds = \"J:/Data/GLOBAL/ADMIN/ADMIN2/HighRes_20230328/shp/WB_GAD_ADM2.shp\"\n",
    "global_urban_file = \"J:/Data/GLOBAL/GHSL/SMOD/GHS_SMOD_E2020_GLOBE_R2023A_54009_1000_V1_0.tif\"\n",
    "global_pop_file =   \"J:/Data/GLOBAL/GHSL/Pop/GHS_POP_E2020_GLOBE_R2023A_54009_100_V1_0.tif\"\n",
    "\n",
    "ghs_smod = rasterio.open(global_urban_file)\n",
    "ghs_pop = rasterio.open(global_pop_file)"
   ]
  },
  {
   "cell_type": "code",
   "execution_count": 7,
   "metadata": {},
   "outputs": [],
   "source": [
    "h3_0_list = h3_helper.generate_lvl0_lists(h3_level, return_gdf=True, buffer0=False)"
   ]
  },
  {
   "cell_type": "code",
   "execution_count": 15,
   "metadata": {},
   "outputs": [
    {
     "name": "stdout",
     "output_type": "stream",
     "text": [
      "\u001b[1;31mSignature:\u001b[0m\n",
      "\u001b[0mrMisc\u001b[0m\u001b[1;33m.\u001b[0m\u001b[0mzonalStats\u001b[0m\u001b[1;33m(\u001b[0m\u001b[1;33m\n",
      "\u001b[0m    \u001b[0minShp\u001b[0m\u001b[1;33m,\u001b[0m\u001b[1;33m\n",
      "\u001b[0m    \u001b[0minRaster\u001b[0m\u001b[1;33m,\u001b[0m\u001b[1;33m\n",
      "\u001b[0m    \u001b[0mbandNum\u001b[0m\u001b[1;33m=\u001b[0m\u001b[1;36m1\u001b[0m\u001b[1;33m,\u001b[0m\u001b[1;33m\n",
      "\u001b[0m    \u001b[0mmask_A\u001b[0m\u001b[1;33m=\u001b[0m\u001b[1;32mNone\u001b[0m\u001b[1;33m,\u001b[0m\u001b[1;33m\n",
      "\u001b[0m    \u001b[0mreProj\u001b[0m\u001b[1;33m=\u001b[0m\u001b[1;32mFalse\u001b[0m\u001b[1;33m,\u001b[0m\u001b[1;33m\n",
      "\u001b[0m    \u001b[0mminVal\u001b[0m\u001b[1;33m=\u001b[0m\u001b[1;34m''\u001b[0m\u001b[1;33m,\u001b[0m\u001b[1;33m\n",
      "\u001b[0m    \u001b[0mmaxVal\u001b[0m\u001b[1;33m=\u001b[0m\u001b[1;34m''\u001b[0m\u001b[1;33m,\u001b[0m\u001b[1;33m\n",
      "\u001b[0m    \u001b[0mverbose\u001b[0m\u001b[1;33m=\u001b[0m\u001b[1;32mFalse\u001b[0m\u001b[1;33m,\u001b[0m\u001b[1;33m\n",
      "\u001b[0m    \u001b[0mrastType\u001b[0m\u001b[1;33m=\u001b[0m\u001b[1;34m'N'\u001b[0m\u001b[1;33m,\u001b[0m\u001b[1;33m\n",
      "\u001b[0m    \u001b[0munqVals\u001b[0m\u001b[1;33m=\u001b[0m\u001b[1;33m[\u001b[0m\u001b[1;33m]\u001b[0m\u001b[1;33m,\u001b[0m\u001b[1;33m\n",
      "\u001b[0m    \u001b[0mweighted\u001b[0m\u001b[1;33m=\u001b[0m\u001b[1;32mFalse\u001b[0m\u001b[1;33m,\u001b[0m\u001b[1;33m\n",
      "\u001b[0m    \u001b[0mallTouched\u001b[0m\u001b[1;33m=\u001b[0m\u001b[1;32mFalse\u001b[0m\u001b[1;33m,\u001b[0m\u001b[1;33m\n",
      "\u001b[0m    \u001b[0mcalc_sd\u001b[0m\u001b[1;33m=\u001b[0m\u001b[1;32mFalse\u001b[0m\u001b[1;33m,\u001b[0m\u001b[1;33m\n",
      "\u001b[0m    \u001b[0mreturn_df\u001b[0m\u001b[1;33m=\u001b[0m\u001b[1;32mFalse\u001b[0m\u001b[1;33m,\u001b[0m\u001b[1;33m\n",
      "\u001b[0m\u001b[1;33m)\u001b[0m\u001b[1;33m\u001b[0m\u001b[1;33m\u001b[0m\u001b[0m\n",
      "\u001b[1;31mDocstring:\u001b[0m\n",
      "Run zonal statistics against an input shapefile. Returns array of SUM, MIN, MAX, and MEAN\n",
      "\n",
      ":param inShp: input geospatial data to summarize raster\n",
      ":type inShp: string path to file of gpd.GeoDataFrame\n",
      ":param inRaster: input raster to summarize\n",
      ":type inRaster: string path to file or rasterio.DatasetReader\n",
      ":param bandNum: band in raster to analyze, defaults to 1\n",
      ":type bandNum: int, optional\n",
      ":param mask_A: mask the raster data using an identical shaped boolean mask, defaults to None\n",
      ":type mask_A: np.array, optional\n",
      ":param reProj: whether to reproject data to match, if not, raise a ValueError if CRS mismatch between inShp and inRaster, defaults to False\n",
      ":type reProj: bool, optional\n",
      ":param minVal: if defined, will only calculate statistics on values above this number, defaults to ''\n",
      ":type minVal: number, optional\n",
      ":param maxVal: if defined, will only calculate statistics on values below this number, defaults to ''\n",
      ":type maxVal: number, optional\n",
      ":param verbose: provide additional text updates, defaults to False\n",
      ":type verbose: bool, optional\n",
      ":param rastType: Type of raster, defaults to 'N' as numerical or 'C' as categorical. If 'C' is used, you should provide unqVals\n",
      ":type rastType: str, optional\n",
      ":param unqVals: List of unique values to search for in raster, defaults to []\n",
      ":type unqVals: list of int, optional\n",
      ":param weighted: apply weighted zonal calculations. This will determine the % overlap for each\n",
      "    raster cell in the defined AOI. Will apply weights in calculations of numerical statistics, defaults to False\n",
      ":type weighted: bool, optional\n",
      ":param allTouched: whether to include all cells touched in raster calculation, passed to rasterio rasterize function, defaults to False\n",
      ":type allTouched: bool, optional\n",
      ":param calc_sd: include the standard deviation in calculation, defaults to False\n",
      ":type calc_sd: bool, optional\n",
      ":param return_df: if true, return result as data frame; defaults to False\n",
      ":type return_df: boolean, optional\n",
      ":raises ValueError: If CRS mismatch between inShp and inRaster\n",
      ":return: array of zonal results - one entry for every feature in inShp. Each entry is SUM, MIN, MAX, MEAN, SD (optional)\n",
      ":rtype: array\n",
      "\u001b[1;31mFile:\u001b[0m      c:\\wbg\\anaconda3\\envs\\urban_test\\lib\\site-packages\\gostrocks\\rastermisc.py\n",
      "\u001b[1;31mType:\u001b[0m      function"
     ]
    }
   ],
   "source": [
    "rMisc.zonalStats?"
   ]
  },
  {
   "cell_type": "code",
   "execution_count": 25,
   "metadata": {},
   "outputs": [],
   "source": []
  },
  {
   "cell_type": "code",
   "execution_count": 14,
   "metadata": {},
   "outputs": [],
   "source": [
    "# get counts of urban categorties\n",
    "unq_urban = [11,12,13,21,22,23,30]\n",
    "processed_list = []\n",
    "for h3_0_key, hexes in h3_0_list.items():\n",
    "    break"
   ]
  },
  {
   "cell_type": "code",
   "execution_count": 27,
   "metadata": {},
   "outputs": [
    {
     "data": {
      "text/plain": [
       "{'s3://wbg-geography01\\\\Space2Stats/h3_stats_data/GLOBAL/Urbanization/80b9fffffffffff/GHS_SMOD_2020_counts.csv':         c_11  c_12  c_13  c_21  c_22  c_23  c_30\n",
       " 0          0     0     0     0     0     0     0\n",
       " 1         38     0     0     0     0     0     0\n",
       " 2         26     0     0     0     0     0     0\n",
       " 3         30     0     0     0     0     0     0\n",
       " 4         39     0     0     0     0     0     0\n",
       " ...      ...   ...   ...   ...   ...   ...   ...\n",
       " 117644    30     0     0     0     0     0     0\n",
       " 117645    35     0     0     0     0     0     0\n",
       " 117646    30     0     0     0     0     0     0\n",
       " 117647    35     0     0     0     0     0     0\n",
       " 117648     0     0     0     0     0     0     0\n",
       " \n",
       " [117649 rows x 7 columns]}"
      ]
     },
     "execution_count": 27,
     "metadata": {},
     "output_type": "execute_result"
    }
   ],
   "source": [
    "res"
   ]
  },
  {
   "cell_type": "code",
   "execution_count": 26,
   "metadata": {},
   "outputs": [
    {
     "name": "stdout",
     "output_type": "stream",
     "text": [
      "15:16:12\tStarting s3://wbg-geography01\\Space2Stats/h3_stats_data/GLOBAL/Urbanization/80b9fffffffffff/GHS_SMOD_2020_counts.csv\n",
      "15:19:32\t**** finished s3://wbg-geography01\\Space2Stats/h3_stats_data/GLOBAL/Urbanization/80b9fffffffffff/GHS_SMOD_2020_counts.csv\n"
     ]
    },
    {
     "ename": "AttributeError",
     "evalue": "'dict' object has no attribute 'to_csv'",
     "output_type": "error",
     "traceback": [
      "\u001b[1;31m---------------------------------------------------------------------------\u001b[0m",
      "\u001b[1;31mAttributeError\u001b[0m                            Traceback (most recent call last)",
      "Cell \u001b[1;32mIn[26], line 12\u001b[0m\n\u001b[0;32m      4\u001b[0m \u001b[38;5;124;03m'''\u001b[39;00m\n\u001b[0;32m      5\u001b[0m \u001b[38;5;124;03mtry:\u001b[39;00m\n\u001b[0;32m      6\u001b[0m \u001b[38;5;124;03m    tempPD = pd.read_csv(full_path)\u001b[39;00m\n\u001b[1;32m   (...)\u001b[0m\n\u001b[0;32m      9\u001b[0m \n\u001b[0;32m     10\u001b[0m \u001b[38;5;124;03m'''\u001b[39;00m\n\u001b[0;32m     11\u001b[0m res \u001b[38;5;241m=\u001b[39m run_zonal_cat(hexes, ghs_smod, full_path, unq_vals\u001b[38;5;241m=\u001b[39munq_urban, buffer0\u001b[38;5;241m=\u001b[39m\u001b[38;5;28;01mTrue\u001b[39;00m, verbose\u001b[38;5;241m=\u001b[39m\u001b[38;5;28;01mTrue\u001b[39;00m)\n\u001b[1;32m---> 12\u001b[0m res\u001b[38;5;241m.\u001b[39mto_csv(\n\u001b[0;32m     13\u001b[0m             \u001b[38;5;124mf\u001b[39m\u001b[38;5;124m\"\u001b[39m\u001b[38;5;124ms3://\u001b[39m\u001b[38;5;132;01m{\u001b[39;00mAWS_S3_BUCKET\u001b[38;5;132;01m}\u001b[39;00m\u001b[38;5;124m/\u001b[39m\u001b[38;5;132;01m{\u001b[39;00mout_s3_key\u001b[38;5;132;01m}\u001b[39;00m\u001b[38;5;124m\"\u001b[39m,\n\u001b[0;32m     14\u001b[0m             index\u001b[38;5;241m=\u001b[39m\u001b[38;5;28;01mFalse\u001b[39;00m,\n\u001b[0;32m     15\u001b[0m             storage_options\u001b[38;5;241m=\u001b[39m{\n\u001b[0;32m     16\u001b[0m                 \u001b[38;5;124m\"\u001b[39m\u001b[38;5;124mkey\u001b[39m\u001b[38;5;124m\"\u001b[39m: AWS_ACCESS_KEY_ID,\n\u001b[0;32m     17\u001b[0m                 \u001b[38;5;124m\"\u001b[39m\u001b[38;5;124msecret\u001b[39m\u001b[38;5;124m\"\u001b[39m: AWS_SECRET_ACCESS_KEY,\n\u001b[0;32m     18\u001b[0m                 \u001b[38;5;124m\"\u001b[39m\u001b[38;5;124mtoken\u001b[39m\u001b[38;5;124m\"\u001b[39m: AWS_SESSION_TOKEN,\n\u001b[0;32m     19\u001b[0m             },\n\u001b[0;32m     20\u001b[0m         )\n",
      "\u001b[1;31mAttributeError\u001b[0m: 'dict' object has no attribute 'to_csv'"
     ]
    }
   ],
   "source": [
    "filename = 'GHS_SMOD_2020_counts.csv'            \n",
    "out_s3_key = f'Space2Stats/h3_stats_data/GLOBAL/{data_prefix}/{h3_0_key}/{filename}'\n",
    "full_path = os.path.join(\"s3://\", AWS_S3_BUCKET, out_s3_key)\n",
    "'''\n",
    "try:\n",
    "    tempPD = pd.read_csv(full_path)\n",
    "    processed_list.append(filename)\n",
    "except:\n",
    "\n",
    "'''\n",
    "res = run_zonal_cat(hexes, ghs_smod, full_path, unq_vals=unq_urban, buffer0=True, verbose=True)\n",
    "res.to_csv(\n",
    "            f\"s3://{AWS_S3_BUCKET}/{out_s3_key}\",\n",
    "            index=False,\n",
    "            storage_options={\n",
    "                \"key\": AWS_ACCESS_KEY_ID,\n",
    "                \"secret\": AWS_SECRET_ACCESS_KEY,\n",
    "                \"token\": AWS_SESSION_TOKEN,\n",
    "            },\n",
    "        )"
   ]
  },
  {
   "cell_type": "code",
   "execution_count": 13,
   "metadata": {},
   "outputs": [],
   "source": [
    "def multi_processing_single_raster(sel_iso3, inA, h3_level, r_file, urban_file, out_folder, zonal_label):\n",
    "    out_file = os.path.join(out_folder, f'{sel_iso3}_{zonal_label}_{h3_level}.csv')\n",
    "    print(out_file)\n",
    "    if not os.path.exists(out_file):\n",
    "        zonalC = country_zonal.country_h3_zonal(sel_iso3, selA, \"ID\", h3_level, out_folder)\n",
    "        zonal_res_pop = zonalC.zonal_raster_urban(r_file, urban_file)\n",
    "        zonal_res_pop.to_csv(out_file)\n",
    "    return(out_file)"
   ]
  },
  {
   "cell_type": "code",
   "execution_count": 14,
   "metadata": {},
   "outputs": [
    {
     "name": "stdout",
     "output_type": "stream",
     "text": [
      "/home/wb411133/projects/Space2Stats/COUNTRIES/ECU/ECU_GHS_POP_2020_6.csv\n"
     ]
    },
    {
     "name": "stderr",
     "output_type": "stream",
     "text": [
      "Generating h3 grid level 6: 100%|██████████| 28/28 [00:00<00:00, 183.50it/s]\n"
     ]
    },
    {
     "name": "stdout",
     "output_type": "stream",
     "text": [
      "(1, 1827, 2113)\n"
     ]
    },
    {
     "data": {
      "text/plain": [
       "'/home/wb411133/projects/Space2Stats/COUNTRIES/ECU/ECU_GHS_POP_2020_6.csv'"
      ]
     },
     "execution_count": 14,
     "metadata": {},
     "output_type": "execute_result"
    }
   ],
   "source": [
    "multi_processing_single_raster(*arg_list[0], \"GHS_POP_2020\")"
   ]
  },
  {
   "cell_type": "code",
   "execution_count": null,
   "metadata": {},
   "outputs": [],
   "source": [
    "with multiprocessing.Pool(processes=min([70,len(arg_list)])) as pool:\n",
    "    results = pool.starmap(multi_processing_single_raster, arg_list)"
   ]
  },
  {
   "cell_type": "code",
   "execution_count": null,
   "metadata": {},
   "outputs": [],
   "source": [
    "multi_processing_single_raster(*arg_list[0], \"GHS_POP_2020\")"
   ]
  },
  {
   "cell_type": "code",
   "execution_count": null,
   "metadata": {},
   "outputs": [],
   "source": []
  }
 ],
 "metadata": {
  "kernelspec": {
   "display_name": "urban_test",
   "language": "python",
   "name": "python3"
  },
  "language_info": {
   "codemirror_mode": {
    "name": "ipython",
    "version": 3
   },
   "file_extension": ".py",
   "mimetype": "text/x-python",
   "name": "python",
   "nbconvert_exporter": "python",
   "pygments_lexer": "ipython3",
   "version": "3.12.2"
  }
 },
 "nbformat": 4,
 "nbformat_minor": 2
}
