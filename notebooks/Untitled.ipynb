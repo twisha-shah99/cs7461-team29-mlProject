{
 "cells": [
  {
   "cell_type": "code",
   "execution_count": 1,
   "id": "086f423a",
   "metadata": {},
   "outputs": [
    {
     "name": "stderr",
     "output_type": "stream",
     "text": [
      "/home/wb411133/.conda/envs/ee/lib/python3.9/site-packages/geopandas/_compat.py:106: UserWarning: The Shapely GEOS version (3.9.1-CAPI-1.14.2) is incompatible with the GEOS version PyGEOS was compiled with (3.10.4-CAPI-1.16.2). Conversions between both will be slow.\n",
      "  warnings.warn(\n"
     ]
    }
   ],
   "source": [
    "import sys, os, importlib, math, multiprocessing, boto3, pickle\n",
    "import rasterio, geojson\n",
    "\n",
    "import pandas as pd\n",
    "import geopandas as gpd\n",
    "import numpy as np\n",
    "\n",
    "from h3 import h3\n",
    "from tqdm import tqdm\n",
    "from shapely.geometry import Polygon\n",
    "\n",
    "sys.path.insert(0, \"/home/wb411133/Code/gostrocks/src\")\n",
    "import GOSTrocks.rasterMisc as rMisc\n",
    "import GOSTrocks.ntlMisc as ntl\n",
    "import GOSTrocks.mapMisc as mapMisc\n",
    "from GOSTrocks.misc import tPrint\n",
    "\n",
    "sys.path.append(\"../src\")\n",
    "import h3_helper\n",
    "\n",
    "%load_ext autoreload\n",
    "%autoreload 2"
   ]
  },
  {
   "cell_type": "code",
   "execution_count": 9,
   "id": "9815766b",
   "metadata": {},
   "outputs": [
    {
     "data": {
      "text/html": [
       "<div>\n",
       "<style scoped>\n",
       "    .dataframe tbody tr th:only-of-type {\n",
       "        vertical-align: middle;\n",
       "    }\n",
       "\n",
       "    .dataframe tbody tr th {\n",
       "        vertical-align: top;\n",
       "    }\n",
       "\n",
       "    .dataframe thead th {\n",
       "        text-align: right;\n",
       "    }\n",
       "</style>\n",
       "<table border=\"1\" class=\"dataframe\">\n",
       "  <thead>\n",
       "    <tr style=\"text-align: right;\">\n",
       "      <th></th>\n",
       "      <th>ISO_A3</th>\n",
       "      <th>ISO_A2</th>\n",
       "      <th>WB_A3</th>\n",
       "      <th>HASC_0</th>\n",
       "      <th>GAUL_0</th>\n",
       "      <th>WB_REGION</th>\n",
       "      <th>WB_STATUS</th>\n",
       "      <th>SOVEREIGN</th>\n",
       "      <th>NAM_0</th>\n",
       "      <th>geometry</th>\n",
       "      <th>ID</th>\n",
       "    </tr>\n",
       "  </thead>\n",
       "  <tbody>\n",
       "    <tr>\n",
       "      <th>0</th>\n",
       "      <td>AFG</td>\n",
       "      <td>AF</td>\n",
       "      <td>AFG</td>\n",
       "      <td>AF</td>\n",
       "      <td>1</td>\n",
       "      <td>SAR</td>\n",
       "      <td>Member State</td>\n",
       "      <td>AFG</td>\n",
       "      <td>Afghanistan</td>\n",
       "      <td>POLYGON ((70.04663 37.54360, 70.04676 37.54356...</td>\n",
       "      <td>0</td>\n",
       "    </tr>\n",
       "    <tr>\n",
       "      <th>1</th>\n",
       "      <td>ALB</td>\n",
       "      <td>AL</td>\n",
       "      <td>ALB</td>\n",
       "      <td>AL</td>\n",
       "      <td>3</td>\n",
       "      <td>ECA</td>\n",
       "      <td>Member State</td>\n",
       "      <td>ALB</td>\n",
       "      <td>Albania</td>\n",
       "      <td>MULTIPOLYGON (((20.46186 41.55588, 20.46177 41...</td>\n",
       "      <td>1</td>\n",
       "    </tr>\n",
       "    <tr>\n",
       "      <th>2</th>\n",
       "      <td>AND</td>\n",
       "      <td>AD</td>\n",
       "      <td>ADO</td>\n",
       "      <td>AD</td>\n",
       "      <td>7</td>\n",
       "      <td>Other</td>\n",
       "      <td>Member State</td>\n",
       "      <td>AND</td>\n",
       "      <td>Andorra</td>\n",
       "      <td>POLYGON ((1.46171 42.50602, 1.46176 42.50605, ...</td>\n",
       "      <td>2</td>\n",
       "    </tr>\n",
       "    <tr>\n",
       "      <th>3</th>\n",
       "      <td>ARE</td>\n",
       "      <td>AE</td>\n",
       "      <td>ARE</td>\n",
       "      <td>AE</td>\n",
       "      <td>255</td>\n",
       "      <td>MENA</td>\n",
       "      <td>Member State</td>\n",
       "      <td>ARE</td>\n",
       "      <td>United Arab Emirates</td>\n",
       "      <td>MULTIPOLYGON (((53.83064 24.06414, 53.82975 24...</td>\n",
       "      <td>3</td>\n",
       "    </tr>\n",
       "    <tr>\n",
       "      <th>4</th>\n",
       "      <td>ARG</td>\n",
       "      <td>AR</td>\n",
       "      <td>ARG</td>\n",
       "      <td>AR</td>\n",
       "      <td>12</td>\n",
       "      <td>LCR</td>\n",
       "      <td>Member State</td>\n",
       "      <td>ARG</td>\n",
       "      <td>Argentina</td>\n",
       "      <td>MULTIPOLYGON (((-58.43833 -34.00238, -58.44420...</td>\n",
       "      <td>4</td>\n",
       "    </tr>\n",
       "  </tbody>\n",
       "</table>\n",
       "</div>"
      ],
      "text/plain": [
       "  ISO_A3 ISO_A2 WB_A3 HASC_0  GAUL_0 WB_REGION     WB_STATUS SOVEREIGN  \\\n",
       "0    AFG     AF   AFG     AF       1       SAR  Member State       AFG   \n",
       "1    ALB     AL   ALB     AL       3       ECA  Member State       ALB   \n",
       "2    AND     AD   ADO     AD       7     Other  Member State       AND   \n",
       "3    ARE     AE   ARE     AE     255      MENA  Member State       ARE   \n",
       "4    ARG     AR   ARG     AR      12       LCR  Member State       ARG   \n",
       "\n",
       "                  NAM_0                                           geometry  ID  \n",
       "0           Afghanistan  POLYGON ((70.04663 37.54360, 70.04676 37.54356...   0  \n",
       "1               Albania  MULTIPOLYGON (((20.46186 41.55588, 20.46177 41...   1  \n",
       "2               Andorra  POLYGON ((1.46171 42.50602, 1.46176 42.50605, ...   2  \n",
       "3  United Arab Emirates  MULTIPOLYGON (((53.83064 24.06414, 53.82975 24...   3  \n",
       "4             Argentina  MULTIPOLYGON (((-58.43833 -34.00238, -58.44420...   4  "
      ]
     },
     "execution_count": 9,
     "metadata": {},
     "output_type": "execute_result"
    }
   ],
   "source": [
    "# Define S3 parameters\n",
    "bucket = 'wbg-geography01' \n",
    "prefix = 'Space2Stats/sample_data'\n",
    "region = 'us-east-1'\n",
    "s3client = boto3.client('s3', region_name=region)\n",
    "out_folder = \"/home/wb411133/projects/Space2Stats/\"\n",
    "\n",
    "admin_bounds = \"/home/public/Data/GLOBAL/ADMIN/ADMIN2/HighRes_20230328/shp/WB_GAD_ADM0.shp\"\n",
    "inA = gpd.read_file(admin_bounds)\n",
    "inA['ID'] = inA.index\n",
    "inA.head()"
   ]
  },
  {
   "cell_type": "code",
   "execution_count": 3,
   "id": "c9e5c3fb",
   "metadata": {},
   "outputs": [
    {
     "data": {
      "text/html": [
       "<div>\n",
       "<style scoped>\n",
       "    .dataframe tbody tr th:only-of-type {\n",
       "        vertical-align: middle;\n",
       "    }\n",
       "\n",
       "    .dataframe tbody tr th {\n",
       "        vertical-align: top;\n",
       "    }\n",
       "\n",
       "    .dataframe thead th {\n",
       "        text-align: right;\n",
       "    }\n",
       "</style>\n",
       "<table border=\"1\" class=\"dataframe\">\n",
       "  <thead>\n",
       "    <tr style=\"text-align: right;\">\n",
       "      <th></th>\n",
       "      <th>ISO_A3</th>\n",
       "      <th>ISO_A2</th>\n",
       "      <th>WB_A3</th>\n",
       "      <th>HASC_0</th>\n",
       "      <th>GAUL_0</th>\n",
       "      <th>WB_REGION</th>\n",
       "      <th>WB_STATUS</th>\n",
       "      <th>SOVEREIGN</th>\n",
       "      <th>NAM_0</th>\n",
       "      <th>geometry</th>\n",
       "      <th>ID</th>\n",
       "    </tr>\n",
       "  </thead>\n",
       "  <tbody>\n",
       "    <tr>\n",
       "      <th>260</th>\n",
       "      <td>KEN</td>\n",
       "      <td>KE</td>\n",
       "      <td>KEN</td>\n",
       "      <td>KE</td>\n",
       "      <td>133</td>\n",
       "      <td>AFR</td>\n",
       "      <td>Member State</td>\n",
       "      <td>KEN</td>\n",
       "      <td>Kenya</td>\n",
       "      <td>MULTIPOLYGON (((33.94935 -0.33810, 33.95258 -0...</td>\n",
       "      <td>260</td>\n",
       "    </tr>\n",
       "  </tbody>\n",
       "</table>\n",
       "</div>"
      ],
      "text/plain": [
       "    ISO_A3 ISO_A2 WB_A3 HASC_0  GAUL_0 WB_REGION     WB_STATUS SOVEREIGN  \\\n",
       "260    KEN     KE   KEN     KE     133       AFR  Member State       KEN   \n",
       "\n",
       "     NAM_0                                           geometry   ID  \n",
       "260  Kenya  MULTIPOLYGON (((33.94935 -0.33810, 33.95258 -0...  260  "
      ]
     },
     "execution_count": 3,
     "metadata": {},
     "output_type": "execute_result"
    }
   ],
   "source": [
    "# Extract/Generate H3 cells and download raster data for mapping generation\n",
    "sel_iso3 = \"KEN\"\n",
    "sel_admin = inA.loc[inA['ISO_A3'] == sel_iso3]\n"
   ]
  },
  {
   "cell_type": "code",
   "execution_count": 4,
   "id": "fe7ceaa4",
   "metadata": {
    "scrolled": true
   },
   "outputs": [
    {
     "data": {
      "text/plain": [
       "['CRS',\n",
       " 'Polygon',\n",
       " '__builtins__',\n",
       " '__cached__',\n",
       " '__doc__',\n",
       " '__file__',\n",
       " '__loader__',\n",
       " '__name__',\n",
       " '__package__',\n",
       " '__spec__',\n",
       " 'ctx',\n",
       " 'folium',\n",
       " 'generate_h3_gdf',\n",
       " 'generate_lvl0_lists',\n",
       " 'generate_lvl1_lists',\n",
       " 'gpd',\n",
       " 'h3',\n",
       " 'importlib',\n",
       " 'json',\n",
       " 'make_axes_locatable',\n",
       " 'map_choropleth',\n",
       " 'mapping',\n",
       " 'matplotlib',\n",
       " 'mpatches',\n",
       " 'os',\n",
       " 'pd',\n",
       " 'pickle',\n",
       " 'plt',\n",
       " 'rasterio',\n",
       " 'shapely',\n",
       " 'static_map_h3',\n",
       " 'sys',\n",
       " 'tPrint',\n",
       " 'tqdm',\n",
       " 'unary_union',\n",
       " 'urlopen']"
      ]
     },
     "execution_count": 4,
     "metadata": {},
     "output_type": "execute_result"
    }
   ],
   "source": [
    "dir(h3_helper)"
   ]
  },
  {
   "cell_type": "code",
   "execution_count": 15,
   "id": "9e7947e7",
   "metadata": {},
   "outputs": [
    {
     "name": "stderr",
     "output_type": "stream",
     "text": [
      "Generating h3 grid level 5: 100%|██████████| 365/365 [00:01<00:00, 224.11it/s]\n",
      "<ipython-input-15-7ed586aa6e45>:9: UserWarning: this is an initial implementation of Parquet/Feather file support and associated metadata.  This is tracking version 0.1.0 of the metadata specification at https://github.com/geopandas/geo-arrow-spec\n",
      "\n",
      "This metadata specification does not yet make stability promises.  We do not yet recommend using this in a production setting unless you are able to rewrite your Parquet/Feather files.\n",
      "\n",
      "To further ignore this warning, you can do: \n",
      "import warnings; warnings.filterwarnings('ignore', message='.*initial implementation of Parquet.*')\n",
      "  h3_data.to_parquet(out_file)\n",
      "Generating h3 grid level 6: 100%|██████████| 365/365 [00:06<00:00, 54.42it/s]\n",
      "Generating h3 grid level 7: 100%|██████████| 365/365 [00:41<00:00,  8.88it/s] \n"
     ]
    }
   ],
   "source": [
    "out_path = f's3://{bucket}/{prefix}/{sel_iso3}'\n",
    "\n",
    "for h3_lvl in [5,6,7]:\n",
    "    out_file = os.path.join(out_path, f\"h3_lvl{h3_lvl}_cells.geoparquet\")\n",
    "    try:\n",
    "        gpd.read_file(out_file)\n",
    "    except:\n",
    "        h3_data = h3_helper.generate_h3_gdf(sel_admin, h3_lvl)\n",
    "        h3_data.to_parquet(out_file)\n"
   ]
  },
  {
   "cell_type": "markdown",
   "id": "a1efc49a",
   "metadata": {},
   "source": [
    "# Extract geospatial data"
   ]
  },
  {
   "cell_type": "code",
   "execution_count": 16,
   "id": "b5f4b133",
   "metadata": {},
   "outputs": [
    {
     "data": {
      "text/plain": [
       "[array([[[0., 0., 0., ..., 0., 0., 0.],\n",
       "         [0., 0., 0., ..., 0., 0., 0.],\n",
       "         [0., 0., 0., ..., 0., 0., 0.],\n",
       "         ...,\n",
       "         [0., 0., 0., ..., 0., 0., 0.],\n",
       "         [0., 0., 0., ..., 0., 0., 0.],\n",
       "         [0., 0., 0., ..., 0., 0., 0.]]], dtype=float32),\n",
       " {'driver': 'GTiff',\n",
       "  'dtype': 'float32',\n",
       "  'nodata': None,\n",
       "  'width': 1921,\n",
       "  'height': 2246,\n",
       "  'count': 1,\n",
       "  'crs': CRS.from_epsg(4326),\n",
       "  'transform': Affine(0.0041666667, 0.0, 33.90625171125001,\n",
       "         0.0, -0.0041666667, 4.631249437050002)}]"
      ]
     },
     "execution_count": 16,
     "metadata": {},
     "output_type": "execute_result"
    }
   ],
   "source": [
    "ntl_files = ntl.aws_search_ntl()\n",
    "sel_file = ntl_files[0]\n",
    "\n",
    "raster_path = \"/home/wb411133/temp/s2s_temp\"\n",
    "if not os.path.exists(raster_path):\n",
    "    os.makedirs(raster_path)\n",
    "\n",
    "out_file = os.path.join(raster_path, os.path.basename(sel_file))\n",
    "rMisc.clipRaster(rasterio.open(sel_file), sel_admin, out_file)"
   ]
  },
  {
   "cell_type": "code",
   "execution_count": null,
   "id": "336f8929",
   "metadata": {},
   "outputs": [],
   "source": []
  }
 ],
 "metadata": {
  "kernelspec": {
   "display_name": "Earth Engine",
   "language": "python",
   "name": "ee"
  },
  "language_info": {
   "codemirror_mode": {
    "name": "ipython",
    "version": 3
   },
   "file_extension": ".py",
   "mimetype": "text/x-python",
   "name": "python",
   "nbconvert_exporter": "python",
   "pygments_lexer": "ipython3",
   "version": "3.9.4"
  }
 },
 "nbformat": 4,
 "nbformat_minor": 5
}
