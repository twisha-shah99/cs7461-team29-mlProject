{
 "cells": [
  {
   "cell_type": "markdown",
   "metadata": {},
   "source": [
    "# Geospatial aggregates for poverty comparison\n",
    "\n",
    "In support of the ELCPV project (PXXXXXX), GOST are calculating admin 2 level summaries of a series of risk, climate, and environmental data. The focus will be on the following datasets\n",
    "\n",
    "| Data layer | Source | Link | Notes |\n",
    "| :--- | :--- | :--- | :--- |\n",
    "| Floods | Fathom | [DDH](https://datacatalog.worldbank.org/int/search/dataset/0021728/Global-Flood-Hazard--FATHOM-) | GFDRR are working on acquiring an updated dataset, need funding |\n",
    "| Drought | **TBD**  |  | One of the candidates is utilizing TerraClimate's Precipitation, Potential Evapotranspiration and Runoff to derive the SPI and SPEI as proxy for Meteorological Drought and SRI for the Hydrological Drought for period 1958-2022 |\n",
    "| Heatwave | DDP | [Github](https://github.com/datapartnership/heatwaves) | The Data Partnership have developed tools for evaluating heat waves, but it is a work in progress |\n",
    "| Cyclone | [NOAA IBTrACS](https://www.ncei.noaa.gov/products/international-best-track-archive) | S3 bucket: [IBTrACS](s3://wbgdecinternal-ntl/climate/data/cyclone/ibtracs) | Available in points and lines shapefile, netCDF and CSV. From 25 Oct 1842 to 7 Sep 2023 |\n",
    "| Wildfire | **TBD** |  | Global Fire Emissions Database [GFED](https://www.globalfiredata.org/) as one of potential data |\n",
    "| Temperature | CCKP | [Climate Change Knowledge Portal](https://climateknowledgeportal.worldbank.org/download-data) | The CCKP are working on an updated, 1/4 degree resolution dataset that we will leverage |\n",
    "| Precipitation | CCKP | [Climate Change Knowledge Portal](https://climateknowledgeportal.worldbank.org/download-data) | The CCKP are working on an updated, 1/4 degree resolution dataset that we will leverage |\n",
    "| Sea-level rise | CCKP | CCKP's [3rd party site](https://data.cckp.adamplatform.eu/InundationMaps/) | The SLR projection available for all SSP's Scenario |\n",
    "| Population | WorldPop | [WorldPop](https://www.worldpop.org/) | We hope to use the soon-to-be released Global WorldPop v2 |\n",
    "| Schools | OSM |  | Extracted via [HOT Export Tool](https://export.hotosm.org/en/v3/) |\n",
    "| Health facilities | OSM |  | [HOT Export Tool](https://export.hotosm.org/en/v3/) |\n",
    "| Road density | OSM |  | [HOT Export Tool](https://export.hotosm.org/en/v3/) |\n",
    "| Dams | **TBD** | [DDH](https://datacatalog.worldbank.org/search/dataset/0038478) | Global Dams Database available in DDH |"
   ]
  },
  {
   "cell_type": "code",
   "execution_count": 1,
   "metadata": {},
   "outputs": [
    {
     "name": "stderr",
     "output_type": "stream",
     "text": [
      "/home/wb411133/.conda/envs/ee/lib/python3.9/site-packages/geopandas/_compat.py:106: UserWarning: The Shapely GEOS version (3.9.1-CAPI-1.14.2) is incompatible with the GEOS version PyGEOS was compiled with (3.10.4-CAPI-1.16.2). Conversions between both will be slow.\n",
      "  warnings.warn(\n"
     ]
    }
   ],
   "source": [
    "import sys, os, importlib, math, multiprocessing\n",
    "import rasterio, geojson\n",
    "\n",
    "import pandas as pd\n",
    "import geopandas as gpd\n",
    "import numpy as np\n",
    "\n",
    "from h3 import h3\n",
    "from tqdm import tqdm\n",
    "from shapely.geometry import Polygon\n",
    "\n",
    "sys.path.insert(0, \"/home/wb411133/Code/gostrocks/src\")\n",
    "import GOSTRocks.rasterMisc as rMisc\n",
    "import GOSTRocks.ntlMisc as ntl\n",
    "import GOSTRocks.mapMisc as mapMisc\n",
    "from GOSTRocks.misc import tPrint\n",
    "\n",
    "sys.path.append(\"../../../src\")\n",
    "import h3_helper\n",
    "import country_zonal\n",
    "\n",
    "%load_ext autoreload\n",
    "%autoreload 2"
   ]
  },
  {
   "cell_type": "code",
   "execution_count": 2,
   "metadata": {},
   "outputs": [],
   "source": [
    "# Extract data for mapping\n",
    "sel_iso3 = 'ARG'\n",
    "h3_lvl = 5\n",
    "\n",
    "ntl_layers = ntl.aws_search_ntl()\n",
    "global_urban = \"/home/public/Data/GLOBAL/GHSL/SMOD/GHS_SMOD_E2020_GLOBE_R2023A_54009_1000_V1_0.tif\"\n",
    "global_population = \"/home/public/Data/GLOBAL/Population/WorldPop_PPP_2020/WP_2020_100m.vrt\"\n",
    "admin_bounds = \"/home/public/Data/GLOBAL/ADMIN/ADMIN2/HighRes_20230328/shp/WB_GAD_ADM2.shp\"\n",
    "out_folder = f\"/home/wb411133/projects/Space2Stats/MAPPING/{sel_iso3}\"\n",
    "if not os.path.exists(out_folder):\n",
    "    os.makedirs(out_folder)"
   ]
  },
  {
   "cell_type": "code",
   "execution_count": 3,
   "metadata": {
    "scrolled": true
   },
   "outputs": [],
   "source": [
    "all_countries = gpd.read_file(admin_bounds)\n",
    "sel_country = all_countries.loc[all_countries['ISO_A3'] == sel_iso3]"
   ]
  },
  {
   "cell_type": "code",
   "execution_count": 8,
   "metadata": {},
   "outputs": [
    {
     "data": {
      "text/plain": [
       "32"
      ]
     },
     "execution_count": 8,
     "metadata": {},
     "output_type": "execute_result"
    }
   ],
   "source": [
    "len(all_countries.loc[all_countries['WB_REGION'] == 'LCR']['ISO_A3'].unique())"
   ]
  },
  {
   "cell_type": "code",
   "execution_count": 5,
   "metadata": {},
   "outputs": [
    {
     "data": {
      "text/html": [
       "<div>\n",
       "<style scoped>\n",
       "    .dataframe tbody tr th:only-of-type {\n",
       "        vertical-align: middle;\n",
       "    }\n",
       "\n",
       "    .dataframe tbody tr th {\n",
       "        vertical-align: top;\n",
       "    }\n",
       "\n",
       "    .dataframe thead th {\n",
       "        text-align: right;\n",
       "    }\n",
       "</style>\n",
       "<table border=\"1\" class=\"dataframe\">\n",
       "  <thead>\n",
       "    <tr style=\"text-align: right;\">\n",
       "      <th></th>\n",
       "      <th>ISO_A3</th>\n",
       "      <th>ISO_A2</th>\n",
       "      <th>WB_A3</th>\n",
       "      <th>HASC_0</th>\n",
       "      <th>HASC_1</th>\n",
       "      <th>HASC_2</th>\n",
       "      <th>GAUL_0</th>\n",
       "      <th>GAUL_1</th>\n",
       "      <th>GAUL_2</th>\n",
       "      <th>WB_REGION</th>\n",
       "      <th>...</th>\n",
       "      <th>NAM_1_WIKI</th>\n",
       "      <th>NAM_2</th>\n",
       "      <th>NAM_2_GAUL</th>\n",
       "      <th>NAM_2_STAT</th>\n",
       "      <th>NAM_2_SRCE</th>\n",
       "      <th>NAM_2_NTVE</th>\n",
       "      <th>NAM_2_WIKI</th>\n",
       "      <th>Shape_Leng</th>\n",
       "      <th>Shape_Area</th>\n",
       "      <th>geometry</th>\n",
       "    </tr>\n",
       "  </thead>\n",
       "  <tbody>\n",
       "    <tr>\n",
       "      <th>0</th>\n",
       "      <td>AFG</td>\n",
       "      <td>AF</td>\n",
       "      <td>AFG</td>\n",
       "      <td>AF</td>\n",
       "      <td>AF.BD</td>\n",
       "      <td>AF.BD.AK</td>\n",
       "      <td>1</td>\n",
       "      <td>0</td>\n",
       "      <td>0</td>\n",
       "      <td>SAR</td>\n",
       "      <td>...</td>\n",
       "      <td>None</td>\n",
       "      <td>Arghanj Khwa</td>\n",
       "      <td>None</td>\n",
       "      <td>Arghanj Khwa</td>\n",
       "      <td>Arghanj Khwa</td>\n",
       "      <td>ارغنچخواه</td>\n",
       "      <td>None</td>\n",
       "      <td>1.617679</td>\n",
       "      <td>0.074255</td>\n",
       "      <td>POLYGON ((70.77120 37.49522, 70.77751 37.50151...</td>\n",
       "    </tr>\n",
       "    <tr>\n",
       "      <th>1</th>\n",
       "      <td>AFG</td>\n",
       "      <td>AF</td>\n",
       "      <td>AFG</td>\n",
       "      <td>AF</td>\n",
       "      <td>AF.BD</td>\n",
       "      <td>AF.BD.AR</td>\n",
       "      <td>1</td>\n",
       "      <td>0</td>\n",
       "      <td>0</td>\n",
       "      <td>SAR</td>\n",
       "      <td>...</td>\n",
       "      <td>None</td>\n",
       "      <td>Argo</td>\n",
       "      <td>None</td>\n",
       "      <td>Argo</td>\n",
       "      <td>Argo</td>\n",
       "      <td>ارگو</td>\n",
       "      <td>None</td>\n",
       "      <td>1.977449</td>\n",
       "      <td>0.106834</td>\n",
       "      <td>POLYGON ((70.10776 37.01419, 70.10744 37.01628...</td>\n",
       "    </tr>\n",
       "    <tr>\n",
       "      <th>2</th>\n",
       "      <td>AFG</td>\n",
       "      <td>AF</td>\n",
       "      <td>AFG</td>\n",
       "      <td>AF</td>\n",
       "      <td>AF.BD</td>\n",
       "      <td>AF.BD.BA</td>\n",
       "      <td>1</td>\n",
       "      <td>0</td>\n",
       "      <td>0</td>\n",
       "      <td>SAR</td>\n",
       "      <td>...</td>\n",
       "      <td>None</td>\n",
       "      <td>Baharak</td>\n",
       "      <td>None</td>\n",
       "      <td>Baharak</td>\n",
       "      <td>Baharak</td>\n",
       "      <td>بهارک</td>\n",
       "      <td>None</td>\n",
       "      <td>0.894333</td>\n",
       "      <td>0.032766</td>\n",
       "      <td>POLYGON ((70.77153 37.05601, 70.77924 37.06589...</td>\n",
       "    </tr>\n",
       "    <tr>\n",
       "      <th>3</th>\n",
       "      <td>AFG</td>\n",
       "      <td>AF</td>\n",
       "      <td>AFG</td>\n",
       "      <td>AF</td>\n",
       "      <td>AF.BD</td>\n",
       "      <td>AF.BD.DY</td>\n",
       "      <td>1</td>\n",
       "      <td>0</td>\n",
       "      <td>0</td>\n",
       "      <td>SAR</td>\n",
       "      <td>...</td>\n",
       "      <td>None</td>\n",
       "      <td>Darayem</td>\n",
       "      <td>None</td>\n",
       "      <td>Darayim</td>\n",
       "      <td>Darayem</td>\n",
       "      <td>درایم</td>\n",
       "      <td>None</td>\n",
       "      <td>1.295426</td>\n",
       "      <td>0.056675</td>\n",
       "      <td>POLYGON ((70.65071 36.86746, 70.65227 36.86330...</td>\n",
       "    </tr>\n",
       "    <tr>\n",
       "      <th>4</th>\n",
       "      <td>AFG</td>\n",
       "      <td>AF</td>\n",
       "      <td>AFG</td>\n",
       "      <td>AF</td>\n",
       "      <td>AF.BD</td>\n",
       "      <td>AF.BD.DA</td>\n",
       "      <td>1</td>\n",
       "      <td>0</td>\n",
       "      <td>0</td>\n",
       "      <td>SAR</td>\n",
       "      <td>...</td>\n",
       "      <td>None</td>\n",
       "      <td>Darwaz</td>\n",
       "      <td>None</td>\n",
       "      <td>Darwaz</td>\n",
       "      <td>Darwaz</td>\n",
       "      <td>درواز</td>\n",
       "      <td>None</td>\n",
       "      <td>1.888940</td>\n",
       "      <td>0.125982</td>\n",
       "      <td>POLYGON ((70.99066 38.49031, 70.99164 38.48937...</td>\n",
       "    </tr>\n",
       "  </tbody>\n",
       "</table>\n",
       "<p>5 rows × 28 columns</p>\n",
       "</div>"
      ],
      "text/plain": [
       "  ISO_A3 ISO_A2 WB_A3 HASC_0 HASC_1    HASC_2  GAUL_0  GAUL_1  GAUL_2  \\\n",
       "0    AFG     AF   AFG     AF  AF.BD  AF.BD.AK       1       0       0   \n",
       "1    AFG     AF   AFG     AF  AF.BD  AF.BD.AR       1       0       0   \n",
       "2    AFG     AF   AFG     AF  AF.BD  AF.BD.BA       1       0       0   \n",
       "3    AFG     AF   AFG     AF  AF.BD  AF.BD.DY       1       0       0   \n",
       "4    AFG     AF   AFG     AF  AF.BD  AF.BD.DA       1       0       0   \n",
       "\n",
       "  WB_REGION  ... NAM_1_WIKI         NAM_2 NAM_2_GAUL    NAM_2_STAT  \\\n",
       "0       SAR  ...       None  Arghanj Khwa       None  Arghanj Khwa   \n",
       "1       SAR  ...       None          Argo       None          Argo   \n",
       "2       SAR  ...       None       Baharak       None       Baharak   \n",
       "3       SAR  ...       None       Darayem       None       Darayim   \n",
       "4       SAR  ...       None        Darwaz       None        Darwaz   \n",
       "\n",
       "     NAM_2_SRCE NAM_2_NTVE NAM_2_WIKI Shape_Leng Shape_Area  \\\n",
       "0  Arghanj Khwa  ارغنچخواه       None   1.617679   0.074255   \n",
       "1          Argo       ارگو       None   1.977449   0.106834   \n",
       "2       Baharak      بهارک       None   0.894333   0.032766   \n",
       "3       Darayem      درایم       None   1.295426   0.056675   \n",
       "4        Darwaz      درواز       None   1.888940   0.125982   \n",
       "\n",
       "                                            geometry  \n",
       "0  POLYGON ((70.77120 37.49522, 70.77751 37.50151...  \n",
       "1  POLYGON ((70.10776 37.01419, 70.10744 37.01628...  \n",
       "2  POLYGON ((70.77153 37.05601, 70.77924 37.06589...  \n",
       "3  POLYGON ((70.65071 36.86746, 70.65227 36.86330...  \n",
       "4  POLYGON ((70.99066 38.49031, 70.99164 38.48937...  \n",
       "\n",
       "[5 rows x 28 columns]"
      ]
     },
     "execution_count": 5,
     "metadata": {},
     "output_type": "execute_result"
    }
   ],
   "source": [
    "all_countries.head()"
   ]
  },
  {
   "cell_type": "code",
   "execution_count": null,
   "metadata": {},
   "outputs": [],
   "source": [
    "sel_country['ISO_A3'].unique()"
   ]
  },
  {
   "cell_type": "code",
   "execution_count": null,
   "metadata": {},
   "outputs": [],
   "source": [
    "# Clip nighttime lights\n",
    "ntl_file = os.path.join(out_folder, \"NTL_VIIRS.tif\")\n",
    "if not os.path.exists(ntl_file):\n",
    "    rMisc.clipRaster(rasterio.open(ntl_layers[-1]), sel_country, ntl_file)"
   ]
  },
  {
   "cell_type": "code",
   "execution_count": null,
   "metadata": {
    "scrolled": true
   },
   "outputs": [],
   "source": [
    "# copy h3 cells\n",
    "h3_file = f\"s3://wbg-geography01/Space2Stats/h3_spatial_data/LCR/{sel_iso3}/h3_level_{h3_lvl}.geojson\"\n",
    "in_h3 = gpd.read_file(h3_file)\n",
    "in_h3.to_file(os.path.join(out_folder, f'h3_level_{h3_lvl}.geojson'), driver='GeoJSON')"
   ]
  },
  {
   "cell_type": "code",
   "execution_count": null,
   "metadata": {},
   "outputs": [],
   "source": [
    "# Copy admin boundaries\n",
    "sel_country.to_file(os.path.join(out_folder, \"adm2.geojson\"), driver=\"GeoJSON\")\n"
   ]
  },
  {
   "cell_type": "code",
   "execution_count": null,
   "metadata": {},
   "outputs": [],
   "source": []
  },
  {
   "cell_type": "markdown",
   "metadata": {},
   "source": [
    "# Read in configured data"
   ]
  },
  {
   "cell_type": "code",
   "execution_count": null,
   "metadata": {},
   "outputs": [],
   "source": [
    "config_folder = \"../../../data/config\"\n",
    "config_file = os.path.join(config_folder, 'chirps_rainfall_differenceanomaly.json')\n"
   ]
  },
  {
   "cell_type": "code",
   "execution_count": null,
   "metadata": {},
   "outputs": [],
   "source": [
    "from space2stats_data_config import s2s_geo_data"
   ]
  },
  {
   "cell_type": "code",
   "execution_count": null,
   "metadata": {},
   "outputs": [],
   "source": [
    "xx = s2s_geo_data(config_file)\n",
    "xx.data_info"
   ]
  },
  {
   "cell_type": "code",
   "execution_count": null,
   "metadata": {},
   "outputs": [],
   "source": [
    "xx.data_info['rainfall_differenceanomaly'].keys()"
   ]
  },
  {
   "cell_type": "code",
   "execution_count": null,
   "metadata": {},
   "outputs": [],
   "source": [
    "# Define global inputs\n",
    "admin_bounds = \"/home/public/Data/GLOBAL/ADMIN/ADMIN2/HighRes_20230328/shp/WB_GAD_ADM2.shp\"\n",
    "global_urban_file = \"/home/public/Data/GLOBAL/GHSL/SMOD/GHS_SMOD_E2020_GLOBE_R2023A_54009_1000_V1_0.tif\"\n",
    "global_pop_file = \"/home/public/Data/GLOBAL/GHSL/Pop/GHS_POP_E2020_GLOBE_R2023A_54009_100_V1_0.tif\""
   ]
  },
  {
   "cell_type": "code",
   "execution_count": null,
   "metadata": {},
   "outputs": [],
   "source": [
    "inA = gpd.read_file(admin_bounds)\n",
    "inA['ID'] = inA.index #Create ID for indexing"
   ]
  },
  {
   "cell_type": "code",
   "execution_count": null,
   "metadata": {
    "scrolled": true
   },
   "outputs": [],
   "source": [
    "sel_iso3 = set(inA.loc[inA['WB_REGION'] == \"LCR\"]['WB_A3'].unique())\n",
    "sel_iso3 = [x for x in sel_iso3 if x != None]\n",
    "sorted(sel_iso3)"
   ]
  },
  {
   "cell_type": "code",
   "execution_count": null,
   "metadata": {
    "scrolled": true
   },
   "outputs": [],
   "source": [
    "arg_list = []\n",
    "for iso3 in sel_iso3:\n",
    "    selA = inA.loc[inA['WB_A3'] == iso3].copy()\n",
    "    out_folder = f\"/home/wb411133/projects/Space2Stats/COUNTRIES/{iso3}\"\n",
    "    print(out_folder)\n",
    "    if not os.path.exists(out_folder):\n",
    "        os.makedirs(out_folder)\n",
    "    arg_list.append([iso3, selA, 6, global_pop_file, global_urban_file, out_folder])"
   ]
  },
  {
   "cell_type": "code",
   "execution_count": null,
   "metadata": {},
   "outputs": [],
   "source": [
    "def multi_processing_single_raster(sel_iso3, inA, h3_level, r_file, urban_file, out_folder, zonal_label):\n",
    "    out_file = os.path.join(out_folder, f'{sel_iso3}_{zonal_label}_{h3_level}.csv')\n",
    "    print(out_file)\n",
    "    if not os.path.exists(out_file):\n",
    "        zonalC = country_zonal.country_h3_zonal(sel_iso3, selA, \"ID\", h3_level, out_folder)\n",
    "        zonal_res_pop = zonalC.zonal_raster_urban(r_file, urban_file)\n",
    "        zonal_res_pop.to_csv(out_file)\n",
    "    return(out_file)"
   ]
  },
  {
   "cell_type": "code",
   "execution_count": null,
   "metadata": {},
   "outputs": [],
   "source": [
    "multi_processing_single_raster(*arg_list[0], \"GHS_POP_2020\")"
   ]
  },
  {
   "cell_type": "markdown",
   "metadata": {},
   "source": [
    "# DEBUGGING"
   ]
  },
  {
   "cell_type": "code",
   "execution_count": null,
   "metadata": {},
   "outputs": [],
   "source": [
    "import boto3\n",
    "bucket = 'wbgdecinternal-ntl'\n",
    "prefix = 'climate/products/spei-terraclimate/zarr/'\n",
    "\n",
    "s3client = boto3.client('s3')\n",
    "objects = s3client.list_objects_v2(Bucket=bucket, Prefix=prefix)\n",
    "for res in objects['Contents']:\n",
    "    print(res['Key'])"
   ]
  },
  {
   "cell_type": "code",
   "execution_count": null,
   "metadata": {},
   "outputs": [],
   "source": []
  }
 ],
 "metadata": {
  "kernelspec": {
   "display_name": "Earth Engine",
   "language": "python",
   "name": "ee"
  },
  "language_info": {
   "codemirror_mode": {
    "name": "ipython",
    "version": 3
   },
   "file_extension": ".py",
   "mimetype": "text/x-python",
   "name": "python",
   "nbconvert_exporter": "python",
   "pygments_lexer": "ipython3",
   "version": "3.9.4"
  }
 },
 "nbformat": 4,
 "nbformat_minor": 2
}
